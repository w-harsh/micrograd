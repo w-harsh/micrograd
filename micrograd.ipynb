{
  "nbformat": 4,
  "nbformat_minor": 0,
  "metadata": {
    "colab": {
      "provenance": []
    },
    "kernelspec": {
      "name": "python3",
      "display_name": "Python 3"
    },
    "language_info": {
      "name": "python"
    }
  },
  "cells": [
    {
      "cell_type": "code",
      "execution_count": null,
      "metadata": {
        "id": "bTwvAJyHHTJG"
      },
      "outputs": [],
      "source": [
        "class Value:\n",
        "  def __init__(self, data, _children=(), _op='', label = ''):\n",
        "    self.data =  data\n",
        "    self.grad = 0.0\n",
        "    self._backward = lambda: None\n",
        "    self._prev = _children\n",
        "    self._op = _op\n",
        "    self.label = label\n",
        "  def __repr__(self):\n",
        "    return f\"Value(data={self.data})\"\n",
        "\n",
        "  def __add__(self, other):\n",
        "      other = other if isinstance(other, Value) else Value(other)\n",
        "      out = Value(self.data + other.data, (self,other), '+')\n",
        "      def _backward():\n",
        "        self.grad = 1.0 * out.grad\n",
        "        other.grad = 1.0 * out.grad\n",
        "      out._backward = _backward\n",
        "      return out\n",
        "\n",
        "  def __mul__(self, other):\n",
        "      other = other if isinstance(other, Value) else Value(other)\n",
        "      out = Value(self.data * other.data, (self,other), '*')\n",
        "      def _backward():\n",
        "        self.grad = other.data * out.grad\n",
        "        other.grad = self.data * out.grad\n",
        "      out._backward = _backward\n",
        "      return out\n",
        "\n",
        "\n",
        "  def __rmul__(self, other):\n",
        "    return self * other\n",
        "\n",
        "  def __pow__(self,other):\n",
        "    assert isinstance(other, (int, float))\n",
        "    out = Value(self.data ** other, (self, ), f'**{other}')\n",
        "    def _backward():\n",
        "      self.grad = other * (self.data ** (other - 1)) * out.grad\n",
        "    out._backward = _backward\n",
        "\n",
        "\n",
        "  def exp(self):\n",
        "    x = self.data\n",
        "    out = Value(math.exp(x), (self, ), 'exp')\n",
        "    def _backward():\n",
        "      self.grad = out.data * out.grad\n",
        "    out._backward = _backward\n",
        "    return out\n",
        "\n",
        "  def __trudiv__(self,other):\n",
        "    return self * other ** -1\n",
        "\n",
        "  def tanh(self):\n",
        "    x = self.data\n",
        "    t = (math.exp(2*x)-1)/(math.exp(2*x)+1)\n",
        "    out = Value(t, (self, ), 'tanh')\n",
        "\n",
        "    def _backward():\n",
        "      self.grad = (1 - t**2) * out.grad\n",
        "    out._backward = _backward\n",
        "    return out\n",
        "\n",
        "  def backward(self):\n",
        "    topo = []\n",
        "    visited = set()\n",
        "    def build_topo(v):\n",
        "      if v not in visited:\n",
        "        visited.add(v)\n",
        "        for child in v._prev:\n",
        "          build_topo(child)\n",
        "        topo.append(v)\n",
        "    build_topo(self)\n",
        "\n",
        "    self.grad = 1.0\n",
        "    for node in reversed(topo):\n",
        "      node._backward()\n",
        "\n"
      ]
    },
    {
      "cell_type": "code",
      "source": [
        "from graphviz import Digraph\n",
        "\n",
        "def trace(root):\n",
        "  nodes, edges = set(), set()\n",
        "  def build(v):\n",
        "    if v not in nodes:\n",
        "      nodes.add(v)\n",
        "      for child in v._prev:\n",
        "        edges.add((child,v))\n",
        "        build(child)\n",
        "  build(root)\n",
        "  return nodes, edges\n",
        "\n",
        "def draw_dot(root):\n",
        "  dot = Digraph(format='svg', graph_attr={'rankdir': 'LR'})\n",
        "\n",
        "  nodes, edges = trace(root)\n",
        "  for n in nodes:\n",
        "    uid = str(id(n))\n",
        "    dot.node(name = uid, label = \"{ %s | data %.4f | grad %.4f }\"% (n.label, n.data, n.grad), shape='record')\n",
        "    if n._op:\n",
        "      dot.node(name = uid + n._op, label = n._op)\n",
        "      dot.edge(uid + n._op, uid)\n",
        "  for n1, n2 in edges:\n",
        "    dot.edge(str(id(n1)), str(id(n2)) + n2._op)\n",
        "  return dot"
      ],
      "metadata": {
        "id": "EqRSuaQWKqoC"
      },
      "execution_count": null,
      "outputs": []
    },
    {
      "cell_type": "code",
      "source": [
        "import math"
      ],
      "metadata": {
        "id": "IEAV_hpYNt4M"
      },
      "execution_count": null,
      "outputs": []
    },
    {
      "cell_type": "code",
      "source": [
        "x1 = Value(2.0, label='x1')\n",
        "x2 = Value(0.0, label='x2')\n",
        "\n",
        "w1 = Value(-3.0, label='w1')\n",
        "w2 = Value(1.0, label='w2')\n",
        "\n",
        "b = Value(6.88)\n",
        "\n",
        "x1w1 = x1*w1\n",
        "x1w1.label = 'x1w1'\n",
        "\n",
        "x2w2 = x2*w2\n",
        "x2w2.label = 'x2w2'\n",
        "\n",
        "x1w1x2w2 = x1w1 + x2w2\n",
        "x1w1x2w2.label = 'x1w1x2w2'\n",
        "\n",
        "n = x1w1x2w2 + b\n",
        "n.label = 'n'\n",
        "\n",
        "o = n.tanh()\n",
        "\n",
        "o.label = 'o'\n"
      ],
      "metadata": {
        "id": "j2gbE--tE7Ss"
      },
      "execution_count": null,
      "outputs": []
    },
    {
      "cell_type": "code",
      "source": [
        "draw_dot(o)"
      ],
      "metadata": {
        "colab": {
          "base_uri": "https://localhost:8080/",
          "height": 322
        },
        "id": "Tx_gTa0ZoTmX",
        "outputId": "fe086fc7-8d17-4012-a555-c04365fffcc1"
      },
      "execution_count": null,
      "outputs": [
        {
          "output_type": "execute_result",
          "data": {
            "image/svg+xml": "<?xml version=\"1.0\" encoding=\"UTF-8\" standalone=\"no\"?>\n<!DOCTYPE svg PUBLIC \"-//W3C//DTD SVG 1.1//EN\"\n \"http://www.w3.org/Graphics/SVG/1.1/DTD/svg11.dtd\">\n<!-- Generated by graphviz version 2.43.0 (0)\n -->\n<!-- Title: %3 Pages: 1 -->\n<svg width=\"1540pt\" height=\"210pt\"\n viewBox=\"0.00 0.00 1540.00 210.00\" xmlns=\"http://www.w3.org/2000/svg\" xmlns:xlink=\"http://www.w3.org/1999/xlink\">\n<g id=\"graph0\" class=\"graph\" transform=\"scale(1 1) rotate(0) translate(4 206)\">\n<title>%3</title>\n<polygon fill=\"white\" stroke=\"transparent\" points=\"-4,4 -4,-206 1536,-206 1536,4 -4,4\"/>\n<!-- 139093055923744 -->\n<g id=\"node1\" class=\"node\">\n<title>139093055923744</title>\n<polygon fill=\"none\" stroke=\"black\" points=\"1347,-54.5 1347,-90.5 1532,-90.5 1532,-54.5 1347,-54.5\"/>\n<text text-anchor=\"middle\" x=\"1358.5\" y=\"-68.8\" font-family=\"Times,serif\" font-size=\"14.00\">o</text>\n<polyline fill=\"none\" stroke=\"black\" points=\"1370,-54.5 1370,-90.5 \"/>\n<text text-anchor=\"middle\" x=\"1410\" y=\"-68.8\" font-family=\"Times,serif\" font-size=\"14.00\">data 0.7064</text>\n<polyline fill=\"none\" stroke=\"black\" points=\"1450,-54.5 1450,-90.5 \"/>\n<text text-anchor=\"middle\" x=\"1491\" y=\"-68.8\" font-family=\"Times,serif\" font-size=\"14.00\">grad 1.0000</text>\n</g>\n<!-- 139093055923744tanh -->\n<g id=\"node2\" class=\"node\">\n<title>139093055923744tanh</title>\n<ellipse fill=\"none\" stroke=\"black\" cx=\"1284\" cy=\"-72.5\" rx=\"27\" ry=\"18\"/>\n<text text-anchor=\"middle\" x=\"1284\" y=\"-68.8\" font-family=\"Times,serif\" font-size=\"14.00\">tanh</text>\n</g>\n<!-- 139093055923744tanh&#45;&gt;139093055923744 -->\n<g id=\"edge1\" class=\"edge\">\n<title>139093055923744tanh&#45;&gt;139093055923744</title>\n<path fill=\"none\" stroke=\"black\" d=\"M1311.04,-72.5C1318.58,-72.5 1327.3,-72.5 1336.57,-72.5\"/>\n<polygon fill=\"black\" stroke=\"black\" points=\"1336.81,-76 1346.81,-72.5 1336.81,-69 1336.81,-76\"/>\n</g>\n<!-- 139093055917600 -->\n<g id=\"node3\" class=\"node\">\n<title>139093055917600</title>\n<polygon fill=\"none\" stroke=\"black\" points=\"1036,-54.5 1036,-90.5 1221,-90.5 1221,-54.5 1036,-54.5\"/>\n<text text-anchor=\"middle\" x=\"1047.5\" y=\"-68.8\" font-family=\"Times,serif\" font-size=\"14.00\">n</text>\n<polyline fill=\"none\" stroke=\"black\" points=\"1059,-54.5 1059,-90.5 \"/>\n<text text-anchor=\"middle\" x=\"1099\" y=\"-68.8\" font-family=\"Times,serif\" font-size=\"14.00\">data 0.8800</text>\n<polyline fill=\"none\" stroke=\"black\" points=\"1139,-54.5 1139,-90.5 \"/>\n<text text-anchor=\"middle\" x=\"1180\" y=\"-68.8\" font-family=\"Times,serif\" font-size=\"14.00\">grad 0.5010</text>\n</g>\n<!-- 139093055917600&#45;&gt;139093055923744tanh -->\n<g id=\"edge12\" class=\"edge\">\n<title>139093055917600&#45;&gt;139093055923744tanh</title>\n<path fill=\"none\" stroke=\"black\" d=\"M1221.01,-72.5C1230.01,-72.5 1238.74,-72.5 1246.66,-72.5\"/>\n<polygon fill=\"black\" stroke=\"black\" points=\"1246.91,-76 1256.91,-72.5 1246.91,-69 1246.91,-76\"/>\n</g>\n<!-- 139093055917600+ -->\n<g id=\"node4\" class=\"node\">\n<title>139093055917600+</title>\n<ellipse fill=\"none\" stroke=\"black\" cx=\"973\" cy=\"-72.5\" rx=\"27\" ry=\"18\"/>\n<text text-anchor=\"middle\" x=\"973\" y=\"-68.8\" font-family=\"Times,serif\" font-size=\"14.00\">+</text>\n</g>\n<!-- 139093055917600+&#45;&gt;139093055917600 -->\n<g id=\"edge2\" class=\"edge\">\n<title>139093055917600+&#45;&gt;139093055917600</title>\n<path fill=\"none\" stroke=\"black\" d=\"M1000.04,-72.5C1007.58,-72.5 1016.3,-72.5 1025.57,-72.5\"/>\n<polygon fill=\"black\" stroke=\"black\" points=\"1025.81,-76 1035.81,-72.5 1025.81,-69 1025.81,-76\"/>\n</g>\n<!-- 139093055918656 -->\n<g id=\"node5\" class=\"node\">\n<title>139093055918656</title>\n<polygon fill=\"none\" stroke=\"black\" points=\"2.5,-165.5 2.5,-201.5 197.5,-201.5 197.5,-165.5 2.5,-165.5\"/>\n<text text-anchor=\"middle\" x=\"19\" y=\"-179.8\" font-family=\"Times,serif\" font-size=\"14.00\">w2</text>\n<polyline fill=\"none\" stroke=\"black\" points=\"35.5,-165.5 35.5,-201.5 \"/>\n<text text-anchor=\"middle\" x=\"75.5\" y=\"-179.8\" font-family=\"Times,serif\" font-size=\"14.00\">data 1.0000</text>\n<polyline fill=\"none\" stroke=\"black\" points=\"115.5,-165.5 115.5,-201.5 \"/>\n<text text-anchor=\"middle\" x=\"156.5\" y=\"-179.8\" font-family=\"Times,serif\" font-size=\"14.00\">grad 0.0000</text>\n</g>\n<!-- 139093055927440* -->\n<g id=\"node8\" class=\"node\">\n<title>139093055927440*</title>\n<ellipse fill=\"none\" stroke=\"black\" cx=\"263\" cy=\"-128.5\" rx=\"27\" ry=\"18\"/>\n<text text-anchor=\"middle\" x=\"263\" y=\"-124.8\" font-family=\"Times,serif\" font-size=\"14.00\">*</text>\n</g>\n<!-- 139093055918656&#45;&gt;139093055927440* -->\n<g id=\"edge7\" class=\"edge\">\n<title>139093055918656&#45;&gt;139093055927440*</title>\n<path fill=\"none\" stroke=\"black\" d=\"M172.53,-165.44C181.84,-162.67 191.2,-159.67 200,-156.5 210.53,-152.71 221.75,-147.9 231.72,-143.33\"/>\n<polygon fill=\"black\" stroke=\"black\" points=\"233.25,-146.48 240.82,-139.07 230.28,-140.14 233.25,-146.48\"/>\n</g>\n<!-- 139093055917696 -->\n<g id=\"node6\" class=\"node\">\n<title>139093055917696</title>\n<polygon fill=\"none\" stroke=\"black\" points=\"4,-110.5 4,-146.5 196,-146.5 196,-110.5 4,-110.5\"/>\n<text text-anchor=\"middle\" x=\"19\" y=\"-124.8\" font-family=\"Times,serif\" font-size=\"14.00\">x2</text>\n<polyline fill=\"none\" stroke=\"black\" points=\"34,-110.5 34,-146.5 \"/>\n<text text-anchor=\"middle\" x=\"74\" y=\"-124.8\" font-family=\"Times,serif\" font-size=\"14.00\">data 0.0000</text>\n<polyline fill=\"none\" stroke=\"black\" points=\"114,-110.5 114,-146.5 \"/>\n<text text-anchor=\"middle\" x=\"155\" y=\"-124.8\" font-family=\"Times,serif\" font-size=\"14.00\">grad 0.5010</text>\n</g>\n<!-- 139093055917696&#45;&gt;139093055927440* -->\n<g id=\"edge6\" class=\"edge\">\n<title>139093055917696&#45;&gt;139093055927440*</title>\n<path fill=\"none\" stroke=\"black\" d=\"M196.05,-128.5C206.52,-128.5 216.65,-128.5 225.71,-128.5\"/>\n<polygon fill=\"black\" stroke=\"black\" points=\"225.79,-132 235.79,-128.5 225.79,-125 225.79,-132\"/>\n</g>\n<!-- 139093055927440 -->\n<g id=\"node7\" class=\"node\">\n<title>139093055927440</title>\n<polygon fill=\"none\" stroke=\"black\" points=\"328.5,-110.5 328.5,-146.5 537.5,-146.5 537.5,-110.5 328.5,-110.5\"/>\n<text text-anchor=\"middle\" x=\"352\" y=\"-124.8\" font-family=\"Times,serif\" font-size=\"14.00\">x2w2</text>\n<polyline fill=\"none\" stroke=\"black\" points=\"375.5,-110.5 375.5,-146.5 \"/>\n<text text-anchor=\"middle\" x=\"415.5\" y=\"-124.8\" font-family=\"Times,serif\" font-size=\"14.00\">data 0.0000</text>\n<polyline fill=\"none\" stroke=\"black\" points=\"455.5,-110.5 455.5,-146.5 \"/>\n<text text-anchor=\"middle\" x=\"496.5\" y=\"-124.8\" font-family=\"Times,serif\" font-size=\"14.00\">grad 0.5010</text>\n</g>\n<!-- 139093055927056+ -->\n<g id=\"node10\" class=\"node\">\n<title>139093055927056+</title>\n<ellipse fill=\"none\" stroke=\"black\" cx=\"603\" cy=\"-100.5\" rx=\"27\" ry=\"18\"/>\n<text text-anchor=\"middle\" x=\"603\" y=\"-96.8\" font-family=\"Times,serif\" font-size=\"14.00\">+</text>\n</g>\n<!-- 139093055927440&#45;&gt;139093055927056+ -->\n<g id=\"edge13\" class=\"edge\">\n<title>139093055927440&#45;&gt;139093055927056+</title>\n<path fill=\"none\" stroke=\"black\" d=\"M537.53,-111.25C547.8,-109.53 557.66,-107.89 566.45,-106.43\"/>\n<polygon fill=\"black\" stroke=\"black\" points=\"567.3,-109.83 576.59,-104.74 566.15,-102.93 567.3,-109.83\"/>\n</g>\n<!-- 139093055927440*&#45;&gt;139093055927440 -->\n<g id=\"edge3\" class=\"edge\">\n<title>139093055927440*&#45;&gt;139093055927440</title>\n<path fill=\"none\" stroke=\"black\" d=\"M290.25,-128.5C298.43,-128.5 308.03,-128.5 318.31,-128.5\"/>\n<polygon fill=\"black\" stroke=\"black\" points=\"318.35,-132 328.35,-128.5 318.35,-125 318.35,-132\"/>\n</g>\n<!-- 139093055927056 -->\n<g id=\"node9\" class=\"node\">\n<title>139093055927056</title>\n<polygon fill=\"none\" stroke=\"black\" points=\"666,-82.5 666,-118.5 910,-118.5 910,-82.5 666,-82.5\"/>\n<text text-anchor=\"middle\" x=\"704.5\" y=\"-96.8\" font-family=\"Times,serif\" font-size=\"14.00\">x1w1x2w2</text>\n<polyline fill=\"none\" stroke=\"black\" points=\"743,-82.5 743,-118.5 \"/>\n<text text-anchor=\"middle\" x=\"785.5\" y=\"-96.8\" font-family=\"Times,serif\" font-size=\"14.00\">data &#45;6.0000</text>\n<polyline fill=\"none\" stroke=\"black\" points=\"828,-82.5 828,-118.5 \"/>\n<text text-anchor=\"middle\" x=\"869\" y=\"-96.8\" font-family=\"Times,serif\" font-size=\"14.00\">grad 0.5010</text>\n</g>\n<!-- 139093055927056&#45;&gt;139093055917600+ -->\n<g id=\"edge10\" class=\"edge\">\n<title>139093055927056&#45;&gt;139093055917600+</title>\n<path fill=\"none\" stroke=\"black\" d=\"M906.71,-82.49C917.38,-80.86 927.53,-79.3 936.51,-77.93\"/>\n<polygon fill=\"black\" stroke=\"black\" points=\"937.13,-81.38 946.48,-76.4 936.07,-74.46 937.13,-81.38\"/>\n</g>\n<!-- 139093055927056+&#45;&gt;139093055927056 -->\n<g id=\"edge4\" class=\"edge\">\n<title>139093055927056+&#45;&gt;139093055927056</title>\n<path fill=\"none\" stroke=\"black\" d=\"M630.22,-100.5C637.7,-100.5 646.4,-100.5 655.79,-100.5\"/>\n<polygon fill=\"black\" stroke=\"black\" points=\"655.8,-104 665.8,-100.5 655.8,-97 655.8,-104\"/>\n</g>\n<!-- 139093055918416 -->\n<g id=\"node11\" class=\"node\">\n<title>139093055918416</title>\n<polygon fill=\"none\" stroke=\"black\" points=\"2,-55.5 2,-91.5 198,-91.5 198,-55.5 2,-55.5\"/>\n<text text-anchor=\"middle\" x=\"17\" y=\"-69.8\" font-family=\"Times,serif\" font-size=\"14.00\">x1</text>\n<polyline fill=\"none\" stroke=\"black\" points=\"32,-55.5 32,-91.5 \"/>\n<text text-anchor=\"middle\" x=\"72\" y=\"-69.8\" font-family=\"Times,serif\" font-size=\"14.00\">data 2.0000</text>\n<polyline fill=\"none\" stroke=\"black\" points=\"112,-55.5 112,-91.5 \"/>\n<text text-anchor=\"middle\" x=\"155\" y=\"-69.8\" font-family=\"Times,serif\" font-size=\"14.00\">grad &#45;1.5029</text>\n</g>\n<!-- 139093055914384* -->\n<g id=\"node14\" class=\"node\">\n<title>139093055914384*</title>\n<ellipse fill=\"none\" stroke=\"black\" cx=\"263\" cy=\"-73.5\" rx=\"27\" ry=\"18\"/>\n<text text-anchor=\"middle\" x=\"263\" y=\"-69.8\" font-family=\"Times,serif\" font-size=\"14.00\">*</text>\n</g>\n<!-- 139093055918416&#45;&gt;139093055914384* -->\n<g id=\"edge8\" class=\"edge\">\n<title>139093055918416&#45;&gt;139093055914384*</title>\n<path fill=\"none\" stroke=\"black\" d=\"M198.37,-73.5C208.05,-73.5 217.4,-73.5 225.8,-73.5\"/>\n<polygon fill=\"black\" stroke=\"black\" points=\"225.91,-77 235.91,-73.5 225.91,-70 225.91,-77\"/>\n</g>\n<!-- 139093055915392 -->\n<g id=\"node12\" class=\"node\">\n<title>139093055915392</title>\n<polygon fill=\"none\" stroke=\"black\" points=\"697,-27.5 697,-63.5 879,-63.5 879,-27.5 697,-27.5\"/>\n<text text-anchor=\"middle\" x=\"707\" y=\"-41.8\" font-family=\"Times,serif\" font-size=\"14.00\"> </text>\n<polyline fill=\"none\" stroke=\"black\" points=\"717,-27.5 717,-63.5 \"/>\n<text text-anchor=\"middle\" x=\"757\" y=\"-41.8\" font-family=\"Times,serif\" font-size=\"14.00\">data 6.8800</text>\n<polyline fill=\"none\" stroke=\"black\" points=\"797,-27.5 797,-63.5 \"/>\n<text text-anchor=\"middle\" x=\"838\" y=\"-41.8\" font-family=\"Times,serif\" font-size=\"14.00\">grad 0.5010</text>\n</g>\n<!-- 139093055915392&#45;&gt;139093055917600+ -->\n<g id=\"edge11\" class=\"edge\">\n<title>139093055915392&#45;&gt;139093055917600+</title>\n<path fill=\"none\" stroke=\"black\" d=\"M879.16,-58.8C899.44,-61.79 919.8,-64.8 936.27,-67.23\"/>\n<polygon fill=\"black\" stroke=\"black\" points=\"936.09,-70.74 946.49,-68.74 937.11,-63.81 936.09,-70.74\"/>\n</g>\n<!-- 139093055914384 -->\n<g id=\"node13\" class=\"node\">\n<title>139093055914384</title>\n<polygon fill=\"none\" stroke=\"black\" points=\"326,-55.5 326,-91.5 540,-91.5 540,-55.5 326,-55.5\"/>\n<text text-anchor=\"middle\" x=\"349.5\" y=\"-69.8\" font-family=\"Times,serif\" font-size=\"14.00\">x1w1</text>\n<polyline fill=\"none\" stroke=\"black\" points=\"373,-55.5 373,-91.5 \"/>\n<text text-anchor=\"middle\" x=\"415.5\" y=\"-69.8\" font-family=\"Times,serif\" font-size=\"14.00\">data &#45;6.0000</text>\n<polyline fill=\"none\" stroke=\"black\" points=\"458,-55.5 458,-91.5 \"/>\n<text text-anchor=\"middle\" x=\"499\" y=\"-69.8\" font-family=\"Times,serif\" font-size=\"14.00\">grad 0.5010</text>\n</g>\n<!-- 139093055914384&#45;&gt;139093055927056+ -->\n<g id=\"edge9\" class=\"edge\">\n<title>139093055914384&#45;&gt;139093055927056+</title>\n<path fill=\"none\" stroke=\"black\" d=\"M540.4,-90.6C549.72,-92.1 558.65,-93.53 566.68,-94.82\"/>\n<polygon fill=\"black\" stroke=\"black\" points=\"566.24,-98.3 576.66,-96.43 567.35,-91.39 566.24,-98.3\"/>\n</g>\n<!-- 139093055914384*&#45;&gt;139093055914384 -->\n<g id=\"edge5\" class=\"edge\">\n<title>139093055914384*&#45;&gt;139093055914384</title>\n<path fill=\"none\" stroke=\"black\" d=\"M290.25,-73.5C297.7,-73.5 306.34,-73.5 315.59,-73.5\"/>\n<polygon fill=\"black\" stroke=\"black\" points=\"315.84,-77 325.84,-73.5 315.84,-70 315.84,-77\"/>\n</g>\n<!-- 139093055918560 -->\n<g id=\"node15\" class=\"node\">\n<title>139093055918560</title>\n<polygon fill=\"none\" stroke=\"black\" points=\"0,-0.5 0,-36.5 200,-36.5 200,-0.5 0,-0.5\"/>\n<text text-anchor=\"middle\" x=\"16.5\" y=\"-14.8\" font-family=\"Times,serif\" font-size=\"14.00\">w1</text>\n<polyline fill=\"none\" stroke=\"black\" points=\"33,-0.5 33,-36.5 \"/>\n<text text-anchor=\"middle\" x=\"75.5\" y=\"-14.8\" font-family=\"Times,serif\" font-size=\"14.00\">data &#45;3.0000</text>\n<polyline fill=\"none\" stroke=\"black\" points=\"118,-0.5 118,-36.5 \"/>\n<text text-anchor=\"middle\" x=\"159\" y=\"-14.8\" font-family=\"Times,serif\" font-size=\"14.00\">grad 1.0019</text>\n</g>\n<!-- 139093055918560&#45;&gt;139093055914384* -->\n<g id=\"edge14\" class=\"edge\">\n<title>139093055918560&#45;&gt;139093055914384*</title>\n<path fill=\"none\" stroke=\"black\" d=\"M172.53,-36.56C181.84,-39.33 191.2,-42.33 200,-45.5 210.53,-49.29 221.75,-54.1 231.72,-58.67\"/>\n<polygon fill=\"black\" stroke=\"black\" points=\"230.28,-61.86 240.82,-62.93 233.25,-55.52 230.28,-61.86\"/>\n</g>\n</g>\n</svg>\n",
            "text/plain": [
              "<graphviz.graphs.Digraph at 0x7e812030c0a0>"
            ]
          },
          "metadata": {},
          "execution_count": 10
        }
      ]
    },
    {
      "cell_type": "code",
      "source": [
        "o.grad = 1.0"
      ],
      "metadata": {
        "id": "UvgwVugpsDms"
      },
      "execution_count": null,
      "outputs": []
    },
    {
      "cell_type": "code",
      "source": [
        "o.backward()"
      ],
      "metadata": {
        "id": "dhLTJOUurvmG"
      },
      "execution_count": null,
      "outputs": []
    },
    {
      "cell_type": "code",
      "source": [
        "a = Value(2.0)\n",
        "2 * a\n"
      ],
      "metadata": {
        "id": "x3XdVXwdxxyG"
      },
      "execution_count": null,
      "outputs": []
    },
    {
      "cell_type": "code",
      "source": [],
      "metadata": {
        "id": "lJfY7pezyFNh"
      },
      "execution_count": null,
      "outputs": []
    }
  ]
}